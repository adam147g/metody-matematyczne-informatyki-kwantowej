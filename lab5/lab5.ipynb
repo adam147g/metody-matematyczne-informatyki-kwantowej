{
  "nbformat": 4,
  "nbformat_minor": 0,
  "metadata": {
    "colab": {
      "provenance": []
    },
    "kernelspec": {
      "name": "python3",
      "display_name": "Python 3"
    },
    "language_info": {
      "name": "python"
    }
  },
  "cells": [
    {
      "cell_type": "code",
      "source": [
        "!pip install qiskit qiskit_ibm_runtime pylatexenc"
      ],
      "metadata": {
        "colab": {
          "base_uri": "https://localhost:8080/"
        },
        "id": "J8uQGB3OsgWE",
        "outputId": "2f032505-1a7b-4e7f-97c4-b9a51096e1c7"
      },
      "execution_count": 1,
      "outputs": [
        {
          "output_type": "stream",
          "name": "stdout",
          "text": [
            "Collecting qiskit\n",
            "  Downloading qiskit-2.0.0-cp39-abi3-manylinux_2_17_x86_64.manylinux2014_x86_64.whl.metadata (12 kB)\n",
            "Collecting qiskit_ibm_runtime\n",
            "  Downloading qiskit_ibm_runtime-0.37.0-py3-none-any.whl.metadata (20 kB)\n",
            "Collecting pylatexenc\n",
            "  Downloading pylatexenc-2.10.tar.gz (162 kB)\n",
            "\u001b[2K     \u001b[90m━━━━━━━━━━━━━━━━━━━━━━━━━━━━━━━━━━━━━━━\u001b[0m \u001b[32m162.6/162.6 kB\u001b[0m \u001b[31m9.9 MB/s\u001b[0m eta \u001b[36m0:00:00\u001b[0m\n",
            "\u001b[?25h  Preparing metadata (setup.py) ... \u001b[?25l\u001b[?25hdone\n",
            "Collecting rustworkx>=0.15.0 (from qiskit)\n",
            "  Downloading rustworkx-0.16.0-cp39-abi3-manylinux_2_17_x86_64.manylinux2014_x86_64.whl.metadata (10 kB)\n",
            "Requirement already satisfied: numpy<3,>=1.17 in /usr/local/lib/python3.11/dist-packages (from qiskit) (2.0.2)\n",
            "Requirement already satisfied: scipy>=1.5 in /usr/local/lib/python3.11/dist-packages (from qiskit) (1.14.1)\n",
            "Requirement already satisfied: sympy>=1.3 in /usr/local/lib/python3.11/dist-packages (from qiskit) (1.13.1)\n",
            "Collecting dill>=0.3 (from qiskit)\n",
            "  Downloading dill-0.3.9-py3-none-any.whl.metadata (10 kB)\n",
            "Requirement already satisfied: python-dateutil>=2.8.0 in /usr/local/lib/python3.11/dist-packages (from qiskit) (2.8.2)\n",
            "Collecting stevedore>=3.0.0 (from qiskit)\n",
            "  Downloading stevedore-5.4.1-py3-none-any.whl.metadata (2.3 kB)\n",
            "Requirement already satisfied: typing-extensions in /usr/local/lib/python3.11/dist-packages (from qiskit) (4.13.1)\n",
            "Collecting symengine<0.14,>=0.11 (from qiskit)\n",
            "  Downloading symengine-0.13.0-cp311-cp311-manylinux_2_17_x86_64.manylinux2014_x86_64.whl.metadata (1.2 kB)\n",
            "Requirement already satisfied: requests>=2.19 in /usr/local/lib/python3.11/dist-packages (from qiskit_ibm_runtime) (2.32.3)\n",
            "Collecting requests-ntlm>=1.1.0 (from qiskit_ibm_runtime)\n",
            "  Downloading requests_ntlm-1.3.0-py3-none-any.whl.metadata (2.4 kB)\n",
            "Requirement already satisfied: urllib3>=1.21.1 in /usr/local/lib/python3.11/dist-packages (from qiskit_ibm_runtime) (2.3.0)\n",
            "Requirement already satisfied: websocket-client>=1.5.1 in /usr/local/lib/python3.11/dist-packages (from qiskit_ibm_runtime) (1.8.0)\n",
            "Collecting ibm-platform-services>=0.22.6 (from qiskit_ibm_runtime)\n",
            "  Downloading ibm_platform_services-0.63.0-py3-none-any.whl.metadata (9.0 kB)\n",
            "Collecting pydantic<2.10,>=2.5.0 (from qiskit_ibm_runtime)\n",
            "  Downloading pydantic-2.9.2-py3-none-any.whl.metadata (149 kB)\n",
            "\u001b[2K     \u001b[90m━━━━━━━━━━━━━━━━━━━━━━━━━━━━━━━━━━━━━━━\u001b[0m \u001b[32m149.4/149.4 kB\u001b[0m \u001b[31m6.1 MB/s\u001b[0m eta \u001b[36m0:00:00\u001b[0m\n",
            "\u001b[?25hRequirement already satisfied: packaging in /usr/local/lib/python3.11/dist-packages (from qiskit_ibm_runtime) (24.2)\n",
            "Collecting ibm_cloud_sdk_core<4.0.0,>=3.22.1 (from ibm-platform-services>=0.22.6->qiskit_ibm_runtime)\n",
            "  Downloading ibm_cloud_sdk_core-3.23.0-py3-none-any.whl.metadata (8.7 kB)\n",
            "Requirement already satisfied: annotated-types>=0.6.0 in /usr/local/lib/python3.11/dist-packages (from pydantic<2.10,>=2.5.0->qiskit_ibm_runtime) (0.7.0)\n",
            "Collecting pydantic-core==2.23.4 (from pydantic<2.10,>=2.5.0->qiskit_ibm_runtime)\n",
            "  Downloading pydantic_core-2.23.4-cp311-cp311-manylinux_2_17_x86_64.manylinux2014_x86_64.whl.metadata (6.6 kB)\n",
            "Requirement already satisfied: six>=1.5 in /usr/local/lib/python3.11/dist-packages (from python-dateutil>=2.8.0->qiskit) (1.17.0)\n",
            "Requirement already satisfied: charset-normalizer<4,>=2 in /usr/local/lib/python3.11/dist-packages (from requests>=2.19->qiskit_ibm_runtime) (3.4.1)\n",
            "Requirement already satisfied: idna<4,>=2.5 in /usr/local/lib/python3.11/dist-packages (from requests>=2.19->qiskit_ibm_runtime) (3.10)\n",
            "Requirement already satisfied: certifi>=2017.4.17 in /usr/local/lib/python3.11/dist-packages (from requests>=2.19->qiskit_ibm_runtime) (2025.1.31)\n",
            "Requirement already satisfied: cryptography>=1.3 in /usr/local/lib/python3.11/dist-packages (from requests-ntlm>=1.1.0->qiskit_ibm_runtime) (43.0.3)\n",
            "Collecting pyspnego>=0.4.0 (from requests-ntlm>=1.1.0->qiskit_ibm_runtime)\n",
            "  Downloading pyspnego-0.11.2-py3-none-any.whl.metadata (5.4 kB)\n",
            "Collecting pbr>=2.0.0 (from stevedore>=3.0.0->qiskit)\n",
            "  Downloading pbr-6.1.1-py2.py3-none-any.whl.metadata (3.4 kB)\n",
            "Requirement already satisfied: mpmath<1.4,>=1.1.0 in /usr/local/lib/python3.11/dist-packages (from sympy>=1.3->qiskit) (1.3.0)\n",
            "Requirement already satisfied: cffi>=1.12 in /usr/local/lib/python3.11/dist-packages (from cryptography>=1.3->requests-ntlm>=1.1.0->qiskit_ibm_runtime) (1.17.1)\n",
            "Requirement already satisfied: PyJWT<3.0.0,>=2.8.0 in /usr/local/lib/python3.11/dist-packages (from ibm_cloud_sdk_core<4.0.0,>=3.22.1->ibm-platform-services>=0.22.6->qiskit_ibm_runtime) (2.10.1)\n",
            "Requirement already satisfied: setuptools in /usr/local/lib/python3.11/dist-packages (from pbr>=2.0.0->stevedore>=3.0.0->qiskit) (75.2.0)\n",
            "Requirement already satisfied: pycparser in /usr/local/lib/python3.11/dist-packages (from cffi>=1.12->cryptography>=1.3->requests-ntlm>=1.1.0->qiskit_ibm_runtime) (2.22)\n",
            "Downloading qiskit-2.0.0-cp39-abi3-manylinux_2_17_x86_64.manylinux2014_x86_64.whl (6.5 MB)\n",
            "\u001b[2K   \u001b[90m━━━━━━━━━━━━━━━━━━━━━━━━━━━━━━━━━━━━━━━━\u001b[0m \u001b[32m6.5/6.5 MB\u001b[0m \u001b[31m47.2 MB/s\u001b[0m eta \u001b[36m0:00:00\u001b[0m\n",
            "\u001b[?25hDownloading qiskit_ibm_runtime-0.37.0-py3-none-any.whl (3.1 MB)\n",
            "\u001b[2K   \u001b[90m━━━━━━━━━━━━━━━━━━━━━━━━━━━━━━━━━━━━━━━━\u001b[0m \u001b[32m3.1/3.1 MB\u001b[0m \u001b[31m65.8 MB/s\u001b[0m eta \u001b[36m0:00:00\u001b[0m\n",
            "\u001b[?25hDownloading dill-0.3.9-py3-none-any.whl (119 kB)\n",
            "\u001b[2K   \u001b[90m━━━━━━━━━━━━━━━━━━━━━━━━━━━━━━━━━━━━━━━━\u001b[0m \u001b[32m119.4/119.4 kB\u001b[0m \u001b[31m8.9 MB/s\u001b[0m eta \u001b[36m0:00:00\u001b[0m\n",
            "\u001b[?25hDownloading ibm_platform_services-0.63.0-py3-none-any.whl (352 kB)\n",
            "\u001b[2K   \u001b[90m━━━━━━━━━━━━━━━━━━━━━━━━━━━━━━━━━━━━━━━━\u001b[0m \u001b[32m353.0/353.0 kB\u001b[0m \u001b[31m21.5 MB/s\u001b[0m eta \u001b[36m0:00:00\u001b[0m\n",
            "\u001b[?25hDownloading pydantic-2.9.2-py3-none-any.whl (434 kB)\n",
            "\u001b[2K   \u001b[90m━━━━━━━━━━━━━━━━━━━━━━━━━━━━━━━━━━━━━━━━\u001b[0m \u001b[32m434.9/434.9 kB\u001b[0m \u001b[31m23.2 MB/s\u001b[0m eta \u001b[36m0:00:00\u001b[0m\n",
            "\u001b[?25hDownloading pydantic_core-2.23.4-cp311-cp311-manylinux_2_17_x86_64.manylinux2014_x86_64.whl (2.1 MB)\n",
            "\u001b[2K   \u001b[90m━━━━━━━━━━━━━━━━━━━━━━━━━━━━━━━━━━━━━━━━\u001b[0m \u001b[32m2.1/2.1 MB\u001b[0m \u001b[31m54.5 MB/s\u001b[0m eta \u001b[36m0:00:00\u001b[0m\n",
            "\u001b[?25hDownloading requests_ntlm-1.3.0-py3-none-any.whl (6.6 kB)\n",
            "Downloading rustworkx-0.16.0-cp39-abi3-manylinux_2_17_x86_64.manylinux2014_x86_64.whl (2.1 MB)\n",
            "\u001b[2K   \u001b[90m━━━━━━━━━━━━━━━━━━━━━━━━━━━━━━━━━━━━━━━━\u001b[0m \u001b[32m2.1/2.1 MB\u001b[0m \u001b[31m46.7 MB/s\u001b[0m eta \u001b[36m0:00:00\u001b[0m\n",
            "\u001b[?25hDownloading stevedore-5.4.1-py3-none-any.whl (49 kB)\n",
            "\u001b[2K   \u001b[90m━━━━━━━━━━━━━━━━━━━━━━━━━━━━━━━━━━━━━━━━\u001b[0m \u001b[32m49.5/49.5 kB\u001b[0m \u001b[31m3.2 MB/s\u001b[0m eta \u001b[36m0:00:00\u001b[0m\n",
            "\u001b[?25hDownloading symengine-0.13.0-cp311-cp311-manylinux_2_17_x86_64.manylinux2014_x86_64.whl (49.7 MB)\n",
            "\u001b[2K   \u001b[90m━━━━━━━━━━━━━━━━━━━━━━━━━━━━━━━━━━━━━━━━\u001b[0m \u001b[32m49.7/49.7 MB\u001b[0m \u001b[31m14.4 MB/s\u001b[0m eta \u001b[36m0:00:00\u001b[0m\n",
            "\u001b[?25hDownloading ibm_cloud_sdk_core-3.23.0-py3-none-any.whl (69 kB)\n",
            "\u001b[2K   \u001b[90m━━━━━━━━━━━━━━━━━━━━━━━━━━━━━━━━━━━━━━━━\u001b[0m \u001b[32m69.5/69.5 kB\u001b[0m \u001b[31m2.9 MB/s\u001b[0m eta \u001b[36m0:00:00\u001b[0m\n",
            "\u001b[?25hDownloading pbr-6.1.1-py2.py3-none-any.whl (108 kB)\n",
            "\u001b[2K   \u001b[90m━━━━━━━━━━━━━━━━━━━━━━━━━━━━━━━━━━━━━━━━\u001b[0m \u001b[32m109.0/109.0 kB\u001b[0m \u001b[31m8.3 MB/s\u001b[0m eta \u001b[36m0:00:00\u001b[0m\n",
            "\u001b[?25hDownloading pyspnego-0.11.2-py3-none-any.whl (130 kB)\n",
            "\u001b[2K   \u001b[90m━━━━━━━━━━━━━━━━━━━━━━━━━━━━━━━━━━━━━━━━\u001b[0m \u001b[32m130.5/130.5 kB\u001b[0m \u001b[31m8.2 MB/s\u001b[0m eta \u001b[36m0:00:00\u001b[0m\n",
            "\u001b[?25hBuilding wheels for collected packages: pylatexenc\n",
            "  Building wheel for pylatexenc (setup.py) ... \u001b[?25l\u001b[?25hdone\n",
            "  Created wheel for pylatexenc: filename=pylatexenc-2.10-py3-none-any.whl size=136817 sha256=4a4a9f2128cb417de716bcc9fc840153780570598d56f77d3118d9adf6f132be\n",
            "  Stored in directory: /root/.cache/pip/wheels/b1/7a/33/9fdd892f784ed4afda62b685ae3703adf4c91aa0f524c28f03\n",
            "Successfully built pylatexenc\n",
            "Installing collected packages: pylatexenc, symengine, rustworkx, pydantic-core, pbr, dill, stevedore, pydantic, ibm_cloud_sdk_core, qiskit, pyspnego, ibm-platform-services, requests-ntlm, qiskit_ibm_runtime\n",
            "  Attempting uninstall: pydantic-core\n",
            "    Found existing installation: pydantic_core 2.33.1\n",
            "    Uninstalling pydantic_core-2.33.1:\n",
            "      Successfully uninstalled pydantic_core-2.33.1\n",
            "  Attempting uninstall: pydantic\n",
            "    Found existing installation: pydantic 2.11.3\n",
            "    Uninstalling pydantic-2.11.3:\n",
            "      Successfully uninstalled pydantic-2.11.3\n",
            "Successfully installed dill-0.3.9 ibm-platform-services-0.63.0 ibm_cloud_sdk_core-3.23.0 pbr-6.1.1 pydantic-2.9.2 pydantic-core-2.23.4 pylatexenc-2.10 pyspnego-0.11.2 qiskit-2.0.0 qiskit_ibm_runtime-0.37.0 requests-ntlm-1.3.0 rustworkx-0.16.0 stevedore-5.4.1 symengine-0.13.0\n"
          ]
        }
      ]
    },
    {
      "cell_type": "code",
      "source": [
        "import warnings\n",
        "warnings.filterwarnings(\"ignore\")\n",
        "from qiskit import QuantumCircuit, transpile\n",
        "from qiskit.quantum_info import Statevector\n",
        "from qiskit.visualization import plot_histogram, array_to_latex\n",
        "from qiskit_ibm_runtime import QiskitRuntimeService, Batch, Sampler\n",
        "\n",
        "import qiskit as qs\n",
        "import qiskit_ibm_runtime as qs_ibm\n",
        "import math\n"
      ],
      "metadata": {
        "id": "BJMN_d90shzA"
      },
      "execution_count": 2,
      "outputs": []
    },
    {
      "cell_type": "code",
      "source": [
        "from qiskit_ibm_runtime import QiskitRuntimeService\n",
        "\n",
        "def read_token(filename=\"ibm_token.txt\"):\n",
        "    with open(filename, \"r\") as file:\n",
        "        return file.readline().strip()\n",
        "\n",
        "token = read_token()\n",
        "\n",
        "QiskitRuntimeService.save_account(token=token, channel=\"ibm_quantum\", overwrite=True)\n",
        "\n",
        "service = QiskitRuntimeService()\n"
      ],
      "metadata": {
        "id": "gWbUGprfskb1"
      },
      "execution_count": 3,
      "outputs": []
    },
    {
      "cell_type": "code",
      "source": [
        "backend = service.least_busy(simulator=False, operational=True)\n",
        "backend.name"
      ],
      "metadata": {
        "colab": {
          "base_uri": "https://localhost:8080/",
          "height": 35
        },
        "id": "UZCsiyyxsoPk",
        "outputId": "9ab6838f-46fb-4021-d582-b1cc65442d04"
      },
      "execution_count": null,
      "outputs": [
        {
          "output_type": "execute_result",
          "data": {
            "text/plain": [
              "'ibm_kyiv'"
            ],
            "application/vnd.google.colaboratory.intrinsic+json": {
              "type": "string"
            }
          },
          "metadata": {},
          "execution_count": 19
        }
      ]
    },
    {
      "cell_type": "markdown",
      "source": [
        "# Zadanie 1 - Problem Deutscha\n",
        "\n",
        "Zaimplementuj kwantowe rozwiązanie podstawowego problemu Deutcha dla jedno-qbitowej funkcji na wybranym symulatorze . Podczas prezentacji rozwiązania należy umieć odpowiedzieć na pytania:\n",
        "\n",
        "a) na czym polega problem Deutcha ?\n",
        "\n",
        "b) gdzie są cztery bramki obliczeniowe Uf, do jakich grup należą?\n",
        "\n",
        "c) gdzie (na którym qbicie) jest wynik i jak go interpretować? Czy się zgadza ?\n",
        "\n",
        "d) (opcjonalnie) porównaj wyniki symulatora  z wynikami na prawdziwym urządzeniu kwantowym.\n"
      ],
      "metadata": {
        "id": "iMAWb7oNsuze"
      }
    },
    {
      "cell_type": "markdown",
      "source": [
        "## Przykład z funkcją stałą\n",
        "Zbudujmy układ rozwiązujący problem Deutscha gdy \"w pudełku\" jest funkcja stała.\n"
      ],
      "metadata": {
        "id": "kuJKwcQHuJYM"
      }
    },
    {
      "cell_type": "code",
      "source": [
        "qc_constant= QuantumCircuit(2, 1)\n",
        "\n",
        "# negate the second qubit to answer our question\n",
        "qc_constant.x(1)\n",
        "\n",
        "qc_constant.h(0)\n",
        "qc_constant.h(1)\n",
        "\n",
        "#Create a constant f function (in our case f3)\n",
        "qc_constant.x(1)\n",
        "\n",
        "qc_constant.h(0)\n",
        "qc_constant.h(1)\n",
        "\n",
        "#measure on the 'input' qubit that should bring us answers\n",
        "qc_constant.measure(0, 0)\n",
        "\n",
        "qc_constant.draw('mpl')"
      ],
      "metadata": {
        "colab": {
          "base_uri": "https://localhost:8080/",
          "height": 255
        },
        "id": "axavd9f00yBR",
        "outputId": "7d7c4398-37c9-4444-84ad-560469d68c5f"
      },
      "execution_count": null,
      "outputs": [
        {
          "output_type": "execute_result",
          "data": {
            "text/plain": [
              "<Figure size 538.128x284.278 with 1 Axes>"
            ],
            "image/png": "[encoded data removed]"
          },
          "metadata": {},
          "execution_count": 38
        }
      ]
    },
    {
      "cell_type": "code",
      "source": [
        "qc_transpiled = transpile(qc_constant, backend, optimization_level=3, seed_transpiler=0)\n",
        "\n",
        "with Batch(backend=backend):\n",
        "    sampler = Sampler()\n",
        "    job = sampler.run([qc_transpiled], shots=100)\n",
        "    result_simulator = job.result()\n"
      ],
      "metadata": {
        "id": "ekmQi5nD076_"
      },
      "execution_count": null,
      "outputs": []
    },
    {
      "cell_type": "code",
      "source": [
        "binary_prob = result_simulator[0].data.c.get_counts()\n",
        "print(\"Wynik pomiaru:\", binary_prob)\n",
        "plot_histogram(binary_prob)"
      ],
      "metadata": {
        "colab": {
          "base_uri": "https://localhost:8080/",
          "height": 504
        },
        "id": "D8r3rAbf0-NU",
        "outputId": "53803e43-3b66-440d-e8b4-79add2fb66e1"
      },
      "execution_count": null,
      "outputs": [
        {
          "output_type": "stream",
          "name": "stdout",
          "text": [
            "Wynik pomiaru: {'0': 100}\n"
          ]
        },
        {
          "output_type": "execute_result",
          "data": {
            "text/plain": [
              "<Figure size 640x480 with 1 Axes>"
            ],
            "image/png": "[encoded data removed]"
          },
          "metadata": {},
          "execution_count": 49
        }
      ]
    },
    {
      "cell_type": "markdown",
      "source": [
        "## Przykład z funkcją zmienną\n",
        "Zbudujmy układ kwantowy ze zmienną funkcją\n"
      ],
      "metadata": {
        "id": "9Rp2z3uQvgVz"
      }
    },
    {
      "cell_type": "code",
      "source": [
        "backend = service.least_busy(simulator=False, operational=True)\n",
        "backend.name"
      ],
      "metadata": {
        "colab": {
          "base_uri": "https://localhost:8080/",
          "height": 35
        },
        "id": "1aQ5zFL41x_l",
        "outputId": "dbc45126-4087-4179-9823-919d43c372dc"
      },
      "execution_count": 4,
      "outputs": [
        {
          "output_type": "execute_result",
          "data": {
            "text/plain": [
              "'ibm_kyiv'"
            ],
            "application/vnd.google.colaboratory.intrinsic+json": {
              "type": "string"
            }
          },
          "metadata": {},
          "execution_count": 4
        }
      ]
    },
    {
      "cell_type": "code",
      "source": [
        "qc_balanced = QuantumCircuit(2, 1)\n",
        "\n",
        "qc_balanced.x(1)\n",
        "\n",
        "qc_balanced.h(0)\n",
        "qc_balanced.h(1)\n",
        "\n",
        "# Uf: f(x) = x (CNOT)\n",
        "qc_balanced.x(1)\n",
        "qc_balanced.cx(0, 1)\n",
        "\n",
        "qc_balanced.h(0)\n",
        "qc_balanced.h(1)\n",
        "\n",
        "qc_balanced.measure(0, 0)\n",
        "\n",
        "qc_balanced.draw('mpl')"
      ],
      "metadata": {
        "colab": {
          "base_uri": "https://localhost:8080/",
          "height": 255
        },
        "id": "DieHrxaVs6Mz",
        "outputId": "90e1d569-751b-4f72-c4f4-0c34b92973c6"
      },
      "execution_count": 5,
      "outputs": [
        {
          "output_type": "execute_result",
          "data": {
            "text/plain": [
              "<Figure size 621.739x284.278 with 1 Axes>"
            ],
            "image/png": "[encoded data removed]"
          },
          "metadata": {},
          "execution_count": 5
        }
      ]
    },
    {
      "cell_type": "code",
      "source": [
        "qc_transpiled_b = transpile(qc_balanced, backend, optimization_level=3, seed_transpiler=0)\n",
        "\n",
        "with Batch(backend=backend):\n",
        "    sampler = Sampler()\n",
        "    job = sampler.run([qc_transpiled_b], shots=100)\n",
        "    result_simulator_b = job.result()\n"
      ],
      "metadata": {
        "id": "qSFcRLaYs7Jl"
      },
      "execution_count": 6,
      "outputs": []
    },
    {
      "cell_type": "code",
      "source": [
        "binary_prob_b = result_simulator_b[0].data.c.get_counts()\n",
        "print(\"Wynik pomiaru:\", binary_prob_b)\n",
        "plot_histogram(binary_prob_b)"
      ],
      "metadata": {
        "colab": {
          "base_uri": "https://localhost:8080/",
          "height": 504
        },
        "id": "RvglAvMPv4I_",
        "outputId": "57828703-076a-4088-91cc-ef81711ef05f"
      },
      "execution_count": 7,
      "outputs": [
        {
          "output_type": "stream",
          "name": "stdout",
          "text": [
            "Wynik pomiaru: {'1': 100}\n"
          ]
        },
        {
          "output_type": "execute_result",
          "data": {
            "text/plain": [
              "<Figure size 640x480 with 1 Axes>"
            ],
            "image/png": "[encoded data removed]"
          },
          "metadata": {},
          "execution_count": 7
        }
      ]
    },
    {
      "cell_type": "markdown",
      "source": [
        "## a) Na czym polega problem Deutcha?\n",
        "\n",
        "Problem Deutcha polega na rozstrzygnięciu, czy funkcja logiczna `f: {0,1} → {0,1}` jest:\n",
        "\n",
        "- **stała** (constant), tzn. `f(0) = f(1)`\n",
        "- **zróżnicowana** (balanced), tzn. `f(0) ≠ f(1)`\n",
        "\n",
        "W klasycznym podejściu musimy obliczyć **dwa wyniki**: `f(0)` i `f(1)`, co wymaga dwóch zapytań. W podejściu kwantowym, dzięki wykorzystaniu kwantowej superpozycji i interferencji, wystarczy **jedno zapytanie** do funkcji `f` (po wykonaniu odpowiednich operacji na kwantowym komputerze), aby rozstrzygnąć, czy funkcja jest stała, czy zróżnicowana.\n",
        "\n",
        "## b) Gdzie są cztery bramki Uf i do jakich grup należą?\n",
        "\n",
        "Problem Deutcha dotyczy czterech możliwych funkcji `f`, które mogą być:\n",
        "\n",
        "| Nazwa funkcji | `f(0)` | `f(1)` | Typ       | Operator Uf                     |\n",
        "|---------------|--------|--------|-----------|----------------------------------|\n",
        "| `f₀(x) = 0`   | 0      | 0      | constant  | Identity                 |\n",
        "| `f₁(x) = 1`   | 1      | 1      | constant  | CNOT        |\n",
        "| `f₂(x) = x`   | 0      | 1      | balanced  | X(y) + CNOT                             |\n",
        "| `f₃(x) = ¬x`  | 1      | 0      | balanced  | X(y) |\n",
        "\n",
        "Każda bramka `Uf` to operator kwantowy działający na dwóch qbitach:  \n",
        "``|x⟩|y⟩ → |x⟩|y ⊕ f(x)⟩``\n",
        "\n",
        "- **Stałe funkcje** (`f₀`, `f₁`) odpowiadają operatorom tożsamościowym lub negującym drugi qbit.\n",
        "- **Funkcje zróżnicowane** (`f₂`, `f₃`) odpowiadają operacjom CNOT (kontrola na pierwszym qbiczie).\n",
        "\n",
        "## c) Gdzie (na którym qbicie) jest wynik i jak go interpretować? Czy się zgadza?\n",
        "\n",
        "Wynik jest odczytywany po pomiarze **pierwszego qbitu** (q0).\n",
        "\n",
        "**Interpretacja**:\n",
        "- **Wynik = 0** → funkcja jest **stała** (constant).\n",
        "- **Wynik = 1** → funkcja jest **zróżnicowana** (balanced)."
      ],
      "metadata": {
        "id": "EzN0Ura6s8w3"
      }
    },
    {
      "cell_type": "markdown",
      "source": [
        "# Zadanie 2 - Problem Bernsteina-Vaziraniego\n",
        "\n",
        "Zaimplementuj rozwiązanie klasyczne oraz kwantowe problemu Bernsteina-Vaziraniego na wybranym symulatorze. Podczas prezentacji rozwiązania należy umieć odpowiedzieć na pytania:\n",
        "\n",
        "a)  na czym polega problem ?\n",
        "\n",
        "b)  gdzie jest bramka obliczeniowa Uf dla problemu Bernsteina-Vaziraniego?\n",
        "\n",
        "c)  w jaki sposób realizujemy rozwiązanie klasyczne, a w jaki kwantowe?\n",
        "\n",
        "d)  gdzie (na których qbitach) otrzymujemy rozwiązanie klasyczne, a na których kwantowe ?  Ile wynosi i czy się zgadza ?\n",
        "\n",
        "e)  (opcjonalnie) porównaj wyniki symulatora z wynikami na prawdziwym urządzeniu kwantowym.\n"
      ],
      "metadata": {
        "id": "tTGLPbHqwJb4"
      }
    },
    {
      "cell_type": "code",
      "source": [
        "from qiskit import QuantumCircuit\n",
        "from qiskit.visualization import plot_histogram\n",
        "import numpy as np"
      ],
      "metadata": {
        "id": "j0NVCM3AwL1C"
      },
      "execution_count": 8,
      "outputs": []
    },
    {
      "cell_type": "markdown",
      "source": [
        "## Podejście klasyczne\n"
      ],
      "metadata": {
        "id": "9Ww0_-qrwKzF"
      }
    },
    {
      "cell_type": "code",
      "source": [
        "def classical_solution(secret_number):\n",
        "    num_bits = secret_number.bit_length()\n",
        "    query = 0\n",
        "    for i in range(num_bits):\n",
        "        if (secret_number >> i) & 1:\n",
        "            query |= (1 << i)\n",
        "    return query\n",
        "\n",
        "print(classical_solution(10110))"
      ],
      "metadata": {
        "colab": {
          "base_uri": "https://localhost:8080/"
        },
        "id": "yTnAH-PGlB5-",
        "outputId": "3bcd3e1a-6a43-4784-cc15-792a04ca6965"
      },
      "execution_count": 57,
      "outputs": [
        {
          "output_type": "stream",
          "name": "stdout",
          "text": [
            "10110\n"
          ]
        }
      ]
    },
    {
      "cell_type": "markdown",
      "source": [
        "## Podejście kwantowe"
      ],
      "metadata": {
        "id": "P2eCPUbklFKl"
      }
    },
    {
      "cell_type": "code",
      "source": [
        "\n",
        "def oracle(qc, s, n):\n",
        "    s_reverse = s[::-1]\n",
        "    for q_index in range(n):\n",
        "        if s_reverse[q_index] == '1':\n",
        "            qc.cx(q_index, n)\n",
        "\n",
        "def bernstein_vazirani(s):\n",
        "    \"\"\"Algorytm Bernsteina-Vaziraniego.\"\"\"\n",
        "    n = len(s)\n",
        "    qc = QuantumCircuit(n + 1, n)\n",
        "\n",
        "    qc.x(n)\n",
        "    qc.barrier()\n",
        "    for qubit in range(n+1):\n",
        "        qc.h(qubit)\n",
        "    qc.barrier()\n",
        "\n",
        "    oracle(qc, s, n)\n",
        "    qc.barrier()\n",
        "\n",
        "    for qubit in range(n+1):\n",
        "        qc.h(qubit)\n",
        "\n",
        "    qc.barrier()\n",
        "\n",
        "    qc.measure(range(n), range(n))\n",
        "\n",
        "    return qc"
      ],
      "metadata": {
        "id": "MG3tU0l4wMQB"
      },
      "execution_count": 55,
      "outputs": []
    },
    {
      "cell_type": "code",
      "source": [
        "s = '10110'  # Ukryty ciąg bitów\n",
        "n = len(s)\n",
        "qc = bernstein_vazirani(s)\n",
        "qc.draw('mpl')"
      ],
      "metadata": {
        "colab": {
          "base_uri": "https://localhost:8080/",
          "height": 513
        },
        "id": "bYzbirEhOjgR",
        "outputId": "07fe502d-0d1b-4e26-80ed-592fc99f1217"
      },
      "execution_count": 51,
      "outputs": [
        {
          "output_type": "execute_result",
          "data": {
            "text/plain": [
              "<Figure size 1374.44x618.722 with 1 Axes>"
            ],
            "image/png": "[encoded data removed]"
          },
          "metadata": {},
          "execution_count": 51
        }
      ]
    },
    {
      "cell_type": "code",
      "source": [
        "backend = service.least_busy(simulator=False, operational=True)\n",
        "print(f\"Wybrany backend: {backend.name}\")\n",
        "\n",
        "qc_transpiled_bv = transpile(qc, backend=backend, optimization_level=3, seed_transpiler=0)"
      ],
      "metadata": {
        "colab": {
          "base_uri": "https://localhost:8080/"
        },
        "id": "_xo5zAfLkfs9",
        "outputId": "c403dee5-0c6e-4a6f-b200-4cf4989a0d5f"
      },
      "execution_count": 52,
      "outputs": [
        {
          "output_type": "stream",
          "name": "stdout",
          "text": [
            "Wybrany backend: ibm_kyiv\n"
          ]
        }
      ]
    },
    {
      "cell_type": "code",
      "source": [
        "with Batch(backend=backend):\n",
        "    sampler = Sampler()\n",
        "    job = sampler.run([qc_transpiled_bv], shots=100)\n",
        "    result = job.result()"
      ],
      "metadata": {
        "id": "CGZ9NUlCkdRX"
      },
      "execution_count": 53,
      "outputs": []
    },
    {
      "cell_type": "code",
      "source": [
        "plot_histogram(result[0].data.c.get_counts())"
      ],
      "metadata": {
        "colab": {
          "base_uri": "https://localhost:8080/",
          "height": 487
        },
        "id": "_SsK92W0KQOH",
        "outputId": "6234f510-9bbb-4870-daf1-7d5c64b5d035"
      },
      "execution_count": 58,
      "outputs": [
        {
          "output_type": "execute_result",
          "data": {
            "text/plain": [
              "<Figure size 640x480 with 1 Axes>"
            ],
            "image/png": "[encoded data removed]"
          },
          "metadata": {},
          "execution_count": 58
        }
      ]
    },
    {
      "cell_type": "markdown",
      "source": [
        "### a) Na czym polega problem?\n",
        "Problem Bernsteina-Vaziraniego polega na ustaleniu pewnej nieznanej liczby w kontekście funkcji przyjmującej n-bitowe wejście.\n",
        "\n",
        "Dana jest funkcja f(x), gdzie x to n-bitowy wektor wejściowy, a wynik f to n-bitowe wyjście. Funkcja ta została stworzona w oparciu o nieznany n-bitowy ciąg s. Zależność ta opisana jest wzorem:\n",
        "f(x) = x ⋅ s mod 2,\n",
        "gdzie „⋅” oznacza iloczyn skalarny modulo 2. Celem jest ustalenie liczby s.\n",
        "\n",
        "### b) Gdzie jest bramka obliczeniowa Uf dla problemu Bernsteina-Vaziraniego?\n",
        "Bramka Uf to tzw. „oracle” w algorytmie Bernsteina-Vaziraniego — kwantowy komponent obwodu, który realizuje działanie funkcji f(x) w sposób unitarnej transformacji.\n",
        "\n",
        "### c) W jaki sposób realizujemy rozwiązanie klasyczne, a w jaki kwantowe?\n",
        "Podejście klasyczne polega na wielokrotnym sprawdzaniu wartości funkcji f dla różnych wejść x. Potrzeba aż n różnych zapytań, gdzie każde wejście zawiera inny pojedynczy bit ustawiony na 1. Dzięki analizie wyników tych zapytań można wywnioskować każdy bit nieznanej liczby s. Proces ten wymaga serii operacji logicznych i analizy odpowiedzi krok po kroku.\n",
        "\n",
        "Podejście kwantowe znacznie przyspiesza ten proces. Dzięki zastosowaniu bramek Hadamarda i oracle’a Uf, algorytm przygotowuje stan superpozycji, a następnie poprzez interferencję kwantową uzyskuje w jednym kroku zakodowaną informację o s. Po przeprowadzeniu pomiaru na pierwszych n kubitach, natychmiast otrzymujemy poszukiwaną liczbę w postaci binarnej. Cały algorytm wykonuje się w czasie O(1), co daje mu znaczną przewagę nad rozwiązaniem klasycznym."
      ],
      "metadata": {
        "id": "0kL2ELVwPDBp"
      }
    }
  ]
}