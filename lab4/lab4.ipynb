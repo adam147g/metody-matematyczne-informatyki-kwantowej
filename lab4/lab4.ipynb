{
  "cells": [
    {
      "cell_type": "markdown",
      "metadata": {
        "id": "T2dbsSv5d6eX"
      },
      "source": [
        "### 1. Zaimplementuj algorytm gęstego kodowania w jednym z wybranych symulatorów"
      ]
    },
    {
      "cell_type": "code",
      "source": [
        "!pip install qiskit\n",
        "!pip install qiskit-ibm-runtime\n",
        "!pip install qiskit[visualization]"
      ],
      "metadata": {
        "colab": {
          "base_uri": "https://localhost:8080/"
        },
        "id": "_08wqDZ0hVQW",
        "outputId": "8358a56e-c3bf-4c4a-e2bc-94ef66b69d64"
      },
      "execution_count": 7,
      "outputs": [
        {
          "output_type": "stream",
          "name": "stdout",
          "text": [
            "Requirement already satisfied: qiskit in /usr/local/lib/python3.11/dist-packages (2.0.0)\n",
            "Requirement already satisfied: rustworkx>=0.15.0 in /usr/local/lib/python3.11/dist-packages (from qiskit) (0.16.0)\n",
            "Requirement already satisfied: numpy<3,>=1.17 in /usr/local/lib/python3.11/dist-packages (from qiskit) (2.0.2)\n",
            "Requirement already satisfied: scipy>=1.5 in /usr/local/lib/python3.11/dist-packages (from qiskit) (1.14.1)\n",
            "Requirement already satisfied: sympy>=1.3 in /usr/local/lib/python3.11/dist-packages (from qiskit) (1.13.1)\n",
            "Requirement already satisfied: dill>=0.3 in /usr/local/lib/python3.11/dist-packages (from qiskit) (0.3.9)\n",
            "Requirement already satisfied: python-dateutil>=2.8.0 in /usr/local/lib/python3.11/dist-packages (from qiskit) (2.8.2)\n",
            "Requirement already satisfied: stevedore>=3.0.0 in /usr/local/lib/python3.11/dist-packages (from qiskit) (5.4.1)\n",
            "Requirement already satisfied: typing-extensions in /usr/local/lib/python3.11/dist-packages (from qiskit) (4.13.1)\n",
            "Requirement already satisfied: symengine<0.14,>=0.11 in /usr/local/lib/python3.11/dist-packages (from qiskit) (0.13.0)\n",
            "Requirement already satisfied: six>=1.5 in /usr/local/lib/python3.11/dist-packages (from python-dateutil>=2.8.0->qiskit) (1.17.0)\n",
            "Requirement already satisfied: pbr>=2.0.0 in /usr/local/lib/python3.11/dist-packages (from stevedore>=3.0.0->qiskit) (6.1.1)\n",
            "Requirement already satisfied: mpmath<1.4,>=1.1.0 in /usr/local/lib/python3.11/dist-packages (from sympy>=1.3->qiskit) (1.3.0)\n",
            "Requirement already satisfied: setuptools in /usr/local/lib/python3.11/dist-packages (from pbr>=2.0.0->stevedore>=3.0.0->qiskit) (75.2.0)\n",
            "Requirement already satisfied: qiskit-ibm-runtime in /usr/local/lib/python3.11/dist-packages (0.37.0)\n",
            "Requirement already satisfied: requests>=2.19 in /usr/local/lib/python3.11/dist-packages (from qiskit-ibm-runtime) (2.32.3)\n",
            "Requirement already satisfied: requests-ntlm>=1.1.0 in /usr/local/lib/python3.11/dist-packages (from qiskit-ibm-runtime) (1.3.0)\n",
            "Requirement already satisfied: numpy>=1.13 in /usr/local/lib/python3.11/dist-packages (from qiskit-ibm-runtime) (2.0.2)\n",
            "Requirement already satisfied: urllib3>=1.21.1 in /usr/local/lib/python3.11/dist-packages (from qiskit-ibm-runtime) (2.3.0)\n",
            "Requirement already satisfied: python-dateutil>=2.8.0 in /usr/local/lib/python3.11/dist-packages (from qiskit-ibm-runtime) (2.8.2)\n",
            "Requirement already satisfied: websocket-client>=1.5.1 in /usr/local/lib/python3.11/dist-packages (from qiskit-ibm-runtime) (1.8.0)\n",
            "Requirement already satisfied: ibm-platform-services>=0.22.6 in /usr/local/lib/python3.11/dist-packages (from qiskit-ibm-runtime) (0.63.0)\n",
            "Requirement already satisfied: pydantic<2.10,>=2.5.0 in /usr/local/lib/python3.11/dist-packages (from qiskit-ibm-runtime) (2.9.2)\n",
            "Requirement already satisfied: qiskit>=1.4.1 in /usr/local/lib/python3.11/dist-packages (from qiskit-ibm-runtime) (2.0.0)\n",
            "Requirement already satisfied: packaging in /usr/local/lib/python3.11/dist-packages (from qiskit-ibm-runtime) (24.2)\n",
            "Requirement already satisfied: ibm_cloud_sdk_core<4.0.0,>=3.22.1 in /usr/local/lib/python3.11/dist-packages (from ibm-platform-services>=0.22.6->qiskit-ibm-runtime) (3.23.0)\n",
            "Requirement already satisfied: annotated-types>=0.6.0 in /usr/local/lib/python3.11/dist-packages (from pydantic<2.10,>=2.5.0->qiskit-ibm-runtime) (0.7.0)\n",
            "Requirement already satisfied: pydantic-core==2.23.4 in /usr/local/lib/python3.11/dist-packages (from pydantic<2.10,>=2.5.0->qiskit-ibm-runtime) (2.23.4)\n",
            "Requirement already satisfied: typing-extensions>=4.6.1 in /usr/local/lib/python3.11/dist-packages (from pydantic<2.10,>=2.5.0->qiskit-ibm-runtime) (4.13.1)\n",
            "Requirement already satisfied: six>=1.5 in /usr/local/lib/python3.11/dist-packages (from python-dateutil>=2.8.0->qiskit-ibm-runtime) (1.17.0)\n",
            "Requirement already satisfied: rustworkx>=0.15.0 in /usr/local/lib/python3.11/dist-packages (from qiskit>=1.4.1->qiskit-ibm-runtime) (0.16.0)\n",
            "Requirement already satisfied: scipy>=1.5 in /usr/local/lib/python3.11/dist-packages (from qiskit>=1.4.1->qiskit-ibm-runtime) (1.14.1)\n",
            "Requirement already satisfied: sympy>=1.3 in /usr/local/lib/python3.11/dist-packages (from qiskit>=1.4.1->qiskit-ibm-runtime) (1.13.1)\n",
            "Requirement already satisfied: dill>=0.3 in /usr/local/lib/python3.11/dist-packages (from qiskit>=1.4.1->qiskit-ibm-runtime) (0.3.9)\n",
            "Requirement already satisfied: stevedore>=3.0.0 in /usr/local/lib/python3.11/dist-packages (from qiskit>=1.4.1->qiskit-ibm-runtime) (5.4.1)\n",
            "Requirement already satisfied: symengine<0.14,>=0.11 in /usr/local/lib/python3.11/dist-packages (from qiskit>=1.4.1->qiskit-ibm-runtime) (0.13.0)\n",
            "Requirement already satisfied: charset-normalizer<4,>=2 in /usr/local/lib/python3.11/dist-packages (from requests>=2.19->qiskit-ibm-runtime) (3.4.1)\n",
            "Requirement already satisfied: idna<4,>=2.5 in /usr/local/lib/python3.11/dist-packages (from requests>=2.19->qiskit-ibm-runtime) (3.10)\n",
            "Requirement already satisfied: certifi>=2017.4.17 in /usr/local/lib/python3.11/dist-packages (from requests>=2.19->qiskit-ibm-runtime) (2025.1.31)\n",
            "Requirement already satisfied: cryptography>=1.3 in /usr/local/lib/python3.11/dist-packages (from requests-ntlm>=1.1.0->qiskit-ibm-runtime) (43.0.3)\n",
            "Requirement already satisfied: pyspnego>=0.4.0 in /usr/local/lib/python3.11/dist-packages (from requests-ntlm>=1.1.0->qiskit-ibm-runtime) (0.11.2)\n",
            "Requirement already satisfied: cffi>=1.12 in /usr/local/lib/python3.11/dist-packages (from cryptography>=1.3->requests-ntlm>=1.1.0->qiskit-ibm-runtime) (1.17.1)\n",
            "Requirement already satisfied: PyJWT<3.0.0,>=2.8.0 in /usr/local/lib/python3.11/dist-packages (from ibm_cloud_sdk_core<4.0.0,>=3.22.1->ibm-platform-services>=0.22.6->qiskit-ibm-runtime) (2.10.1)\n",
            "Requirement already satisfied: pbr>=2.0.0 in /usr/local/lib/python3.11/dist-packages (from stevedore>=3.0.0->qiskit>=1.4.1->qiskit-ibm-runtime) (6.1.1)\n",
            "Requirement already satisfied: mpmath<1.4,>=1.1.0 in /usr/local/lib/python3.11/dist-packages (from sympy>=1.3->qiskit>=1.4.1->qiskit-ibm-runtime) (1.3.0)\n",
            "Requirement already satisfied: pycparser in /usr/local/lib/python3.11/dist-packages (from cffi>=1.12->cryptography>=1.3->requests-ntlm>=1.1.0->qiskit-ibm-runtime) (2.22)\n",
            "Requirement already satisfied: setuptools in /usr/local/lib/python3.11/dist-packages (from pbr>=2.0.0->stevedore>=3.0.0->qiskit>=1.4.1->qiskit-ibm-runtime) (75.2.0)\n",
            "Requirement already satisfied: qiskit[visualization] in /usr/local/lib/python3.11/dist-packages (2.0.0)\n",
            "Requirement already satisfied: rustworkx>=0.15.0 in /usr/local/lib/python3.11/dist-packages (from qiskit[visualization]) (0.16.0)\n",
            "Requirement already satisfied: numpy<3,>=1.17 in /usr/local/lib/python3.11/dist-packages (from qiskit[visualization]) (2.0.2)\n",
            "Requirement already satisfied: scipy>=1.5 in /usr/local/lib/python3.11/dist-packages (from qiskit[visualization]) (1.14.1)\n",
            "Requirement already satisfied: sympy>=1.3 in /usr/local/lib/python3.11/dist-packages (from qiskit[visualization]) (1.13.1)\n",
            "Requirement already satisfied: dill>=0.3 in /usr/local/lib/python3.11/dist-packages (from qiskit[visualization]) (0.3.9)\n",
            "Requirement already satisfied: python-dateutil>=2.8.0 in /usr/local/lib/python3.11/dist-packages (from qiskit[visualization]) (2.8.2)\n",
            "Requirement already satisfied: stevedore>=3.0.0 in /usr/local/lib/python3.11/dist-packages (from qiskit[visualization]) (5.4.1)\n",
            "Requirement already satisfied: typing-extensions in /usr/local/lib/python3.11/dist-packages (from qiskit[visualization]) (4.13.1)\n",
            "Requirement already satisfied: symengine<0.14,>=0.11 in /usr/local/lib/python3.11/dist-packages (from qiskit[visualization]) (0.13.0)\n",
            "Requirement already satisfied: matplotlib>=3.3 in /usr/local/lib/python3.11/dist-packages (from qiskit[visualization]) (3.10.0)\n",
            "Requirement already satisfied: pydot in /usr/local/lib/python3.11/dist-packages (from qiskit[visualization]) (3.0.4)\n",
            "Requirement already satisfied: Pillow>=4.2.1 in /usr/local/lib/python3.11/dist-packages (from qiskit[visualization]) (11.1.0)\n",
            "Requirement already satisfied: pylatexenc>=1.4 in /usr/local/lib/python3.11/dist-packages (from qiskit[visualization]) (2.10)\n",
            "Requirement already satisfied: seaborn>=0.9.0 in /usr/local/lib/python3.11/dist-packages (from qiskit[visualization]) (0.13.2)\n",
            "Requirement already satisfied: contourpy>=1.0.1 in /usr/local/lib/python3.11/dist-packages (from matplotlib>=3.3->qiskit[visualization]) (1.3.1)\n",
            "Requirement already satisfied: cycler>=0.10 in /usr/local/lib/python3.11/dist-packages (from matplotlib>=3.3->qiskit[visualization]) (0.12.1)\n",
            "Requirement already satisfied: fonttools>=4.22.0 in /usr/local/lib/python3.11/dist-packages (from matplotlib>=3.3->qiskit[visualization]) (4.57.0)\n",
            "Requirement already satisfied: kiwisolver>=1.3.1 in /usr/local/lib/python3.11/dist-packages (from matplotlib>=3.3->qiskit[visualization]) (1.4.8)\n",
            "Requirement already satisfied: packaging>=20.0 in /usr/local/lib/python3.11/dist-packages (from matplotlib>=3.3->qiskit[visualization]) (24.2)\n",
            "Requirement already satisfied: pyparsing>=2.3.1 in /usr/local/lib/python3.11/dist-packages (from matplotlib>=3.3->qiskit[visualization]) (3.2.3)\n",
            "Requirement already satisfied: six>=1.5 in /usr/local/lib/python3.11/dist-packages (from python-dateutil>=2.8.0->qiskit[visualization]) (1.17.0)\n",
            "Requirement already satisfied: pandas>=1.2 in /usr/local/lib/python3.11/dist-packages (from seaborn>=0.9.0->qiskit[visualization]) (2.2.2)\n",
            "Requirement already satisfied: pbr>=2.0.0 in /usr/local/lib/python3.11/dist-packages (from stevedore>=3.0.0->qiskit[visualization]) (6.1.1)\n",
            "Requirement already satisfied: mpmath<1.4,>=1.1.0 in /usr/local/lib/python3.11/dist-packages (from sympy>=1.3->qiskit[visualization]) (1.3.0)\n",
            "Requirement already satisfied: pytz>=2020.1 in /usr/local/lib/python3.11/dist-packages (from pandas>=1.2->seaborn>=0.9.0->qiskit[visualization]) (2025.2)\n",
            "Requirement already satisfied: tzdata>=2022.7 in /usr/local/lib/python3.11/dist-packages (from pandas>=1.2->seaborn>=0.9.0->qiskit[visualization]) (2025.2)\n",
            "Requirement already satisfied: setuptools in /usr/local/lib/python3.11/dist-packages (from pbr>=2.0.0->stevedore>=3.0.0->qiskit[visualization]) (75.2.0)\n"
          ]
        }
      ]
    },
    {
      "cell_type": "code",
      "execution_count": 63,
      "metadata": {
        "id": "rcPBhbqbd6ea",
        "outputId": "01f0f606-f160-40cc-b8a2-342797f2c683",
        "colab": {
          "base_uri": "https://localhost:8080/",
          "height": 186
        }
      },
      "outputs": [
        {
          "output_type": "execute_result",
          "data": {
            "text/plain": [
              "     ┌───┐                          \n",
              "q_0: ┤ X ├───────────■──────────────\n",
              "     ├───┤           │              \n",
              "q_1: ┤ X ├───────■───┼──────────────\n",
              "     ├───┤     ┌─┴─┐ │      ┌───┐┌─┐\n",
              "q_2: ┤ H ├──■──┤ X ├─■───■──┤ H ├┤M├\n",
              "     └───┘┌─┴─┐└───┘   ┌─┴─┐└┬─┬┘└╥┘\n",
              "q_3: ─────┤ X ├────────┤ X ├─┤M├──╫─\n",
              "          └───┘        └───┘ └╥┘  ║ \n",
              "c: 2/═════════════════════════╩═══╩═\n",
              "                              1   0 "
            ],
            "text/html": [
              "<pre style=\"word-wrap: normal;white-space: pre;background: #fff0;line-height: 1.1;font-family: &quot;Courier New&quot;,Courier,monospace\">     ┌───┐                          \n",
              "q_0: ┤ X ├───────────■──────────────\n",
              "     ├───┤           │              \n",
              "q_1: ┤ X ├───────■───┼──────────────\n",
              "     ├───┤     ┌─┴─┐ │      ┌───┐┌─┐\n",
              "q_2: ┤ H ├──■──┤ X ├─■───■──┤ H ├┤M├\n",
              "     └───┘┌─┴─┐└───┘   ┌─┴─┐└┬─┬┘└╥┘\n",
              "q_3: ─────┤ X ├────────┤ X ├─┤M├──╫─\n",
              "          └───┘        └───┘ └╥┘  ║ \n",
              "c: 2/═════════════════════════╩═══╩═\n",
              "                              1   0 </pre>"
            ]
          },
          "metadata": {},
          "execution_count": 63
        }
      ],
      "source": [
        "from qiskit.visualization import plot_histogram\n",
        "from qiskit import QuantumCircuit, transpile\n",
        "from qiskit.transpiler.preset_passmanagers import generate_preset_pass_manager\n",
        "from qiskit_ibm_runtime import Batch, SamplerV2\n",
        "from qiskit import QuantumCircuit, QuantumRegister, ClassicalRegister\n",
        "\n",
        "# Tworzymy obwód\n",
        "qc_dense = QuantumCircuit(4, 2)\n",
        "\n",
        "# 1. Tworzymy splątanie dwóch qubitów w bazie Bella\n",
        "qc_dense.h(2)    # Bramkę Hadamarda na qubicie 2 (część splątania)\n",
        "qc_dense.cx(2, 3)  # Bramkę CNOT na qubitach 2 i 3 (część splątania)\n",
        "\n",
        "# 2. Działania Alicji na pierwszym z jej qubitów:\n",
        "qc_dense.x(1) # Zmienia qubit 1 w stan |1>\n",
        "qc_dense.x(0) # Zmienia qubit 0 w stan |1>\n",
        "\n",
        "qc_dense.cx(1, 2)  # Bramkę X na qubicie 2, kontrolowaną przez qubit 1 Alicji\n",
        "qc_dense.cz(0, 2)  # Bramkę Z na qubicie 2, kontrolowaną przez qubit 0 Alicji\n",
        "\n",
        "# 3. Przywrócenie do bazy obliczeniowej\n",
        "qc_dense.cx(2, 3)  # Odwracamy CNOT\n",
        "qc_dense.h(2)  # Odwracamy Bramkę Hadamarda\n",
        "\n",
        "# 4. Pomiar na qubitach 2 i 3 (to są qubity, które są dla nas istotne)\n",
        "qc_dense.measure([2, 3], [0, 1])\n",
        "\n",
        "# Rysujemy obwód\n",
        "qc_dense.draw()"
      ]
    },
    {
      "cell_type": "code",
      "source": [
        "from qiskit_ibm_runtime import QiskitRuntimeService\n",
        "\n",
        "def read_token(filename=\"ibm_token.txt\"):\n",
        "    with open(filename, \"r\") as file:\n",
        "        return file.readline().strip()\n",
        "\n",
        "token = read_token()\n",
        "\n",
        "QiskitRuntimeService.save_account(token=token, channel=\"ibm_quantum\", overwrite=True)\n",
        "\n",
        "service = QiskitRuntimeService()\n"
      ],
      "metadata": {
        "id": "BpUJAd63htMV"
      },
      "execution_count": 48,
      "outputs": []
    },
    {
      "cell_type": "code",
      "execution_count": 49,
      "metadata": {
        "id": "ovcTsEahd6ed",
        "outputId": "522f3957-5903-433b-d616-e2b3223f3666",
        "colab": {
          "base_uri": "https://localhost:8080/",
          "height": 35
        }
      },
      "outputs": [
        {
          "output_type": "execute_result",
          "data": {
            "text/plain": [
              "'ibm_brisbane'"
            ],
            "application/vnd.google.colaboratory.intrinsic+json": {
              "type": "string"
            }
          },
          "metadata": {},
          "execution_count": 49
        }
      ],
      "source": [
        "backend = service.least_busy(simulator=False, operational=True)\n",
        "backend.name"
      ]
    },
    {
      "cell_type": "code",
      "execution_count": 64,
      "metadata": {
        "id": "4HqIft6Bd6ee"
      },
      "outputs": [],
      "source": [
        "qc_transpiled = transpile(qc_dense, backend, optimization_level=3, seed_transpiler=0)\n",
        "\n",
        "with Batch(backend=backend):\n",
        "    sampler = SamplerV2()\n",
        "    job = sampler.run(\n",
        "        [qc_transpiled],\n",
        "        shots=100,\n",
        "    )\n",
        "    result_sim = job.result()"
      ]
    },
    {
      "cell_type": "code",
      "execution_count": 66,
      "metadata": {
        "id": "iepP0VW6d6ee",
        "outputId": "2e4569bb-d516-4f1d-b20a-6f8c93dcb3d9",
        "colab": {
          "base_uri": "https://localhost:8080/",
          "height": 487
        }
      },
      "outputs": [
        {
          "output_type": "execute_result",
          "data": {
            "text/plain": [
              "<Figure size 640x480 with 1 Axes>"
            ],
            "image/png": "[encoded data removed]"
          },
          "metadata": {},
          "execution_count": 66
        }
      ],
      "source": [
        "binary_probs = result_sim[0].data.c.get_counts()\n",
        "plot_histogram(binary_probs)"
      ]
    },
    {
      "cell_type": "markdown",
      "metadata": {
        "id": "BHCLtj1dd6ee"
      },
      "source": [
        "### 2. Zaimplementuj algorytm teleportacji kwantowej w jednym z wybranych symulatorów"
      ]
    },
    {
      "cell_type": "code",
      "execution_count": 68,
      "metadata": {
        "id": "TrKFUjuId6ef",
        "outputId": "3ba9cfb0-b75b-4eb1-9c03-db0601eb77e3",
        "colab": {
          "base_uri": "https://localhost:8080/",
          "height": 156
        }
      },
      "outputs": [
        {
          "output_type": "execute_result",
          "data": {
            "text/plain": [
              "                     ┌───┐┌─┐        \n",
              "q2_0: ────────────■──┤ H ├┤M├──────■─\n",
              "      ┌───┐     ┌─┴─┐└┬─┬┘└╥┘      │ \n",
              "q2_1: ┤ H ├──■──┤ X ├─┤M├──╫───■───┼─\n",
              "      └───┘┌─┴─┐└───┘ └╥┘  ║ ┌─┴─┐ │ \n",
              "q2_2: ─────┤ X ├───────╫───╫─┤ X ├─■─\n",
              "           └───┘       ║   ║ └───┘   \n",
              "c2: 2/═════════════════╩═══╩═════════\n",
              "                       1   0         "
            ],
            "text/html": [
              "<pre style=\"word-wrap: normal;white-space: pre;background: #fff0;line-height: 1.1;font-family: &quot;Courier New&quot;,Courier,monospace\">                     ┌───┐┌─┐        \n",
              "q2_0: ────────────■──┤ H ├┤M├──────■─\n",
              "      ┌───┐     ┌─┴─┐└┬─┬┘└╥┘      │ \n",
              "q2_1: ┤ H ├──■──┤ X ├─┤M├──╫───■───┼─\n",
              "      └───┘┌─┴─┐└───┘ └╥┘  ║ ┌─┴─┐ │ \n",
              "q2_2: ─────┤ X ├───────╫───╫─┤ X ├─■─\n",
              "           └───┘       ║   ║ └───┘   \n",
              "c2: 2/═════════════════╩═══╩═════════\n",
              "                       1   0         </pre>"
            ]
          },
          "metadata": {},
          "execution_count": 68
        }
      ],
      "source": [
        "from qiskit import QuantumCircuit, QuantumRegister, ClassicalRegister\n",
        "\n",
        "# Tworzenie obwodu z 3 kubitami kwantowymi i 2 bitami klasycznymi\n",
        "qc = QuantumCircuit(QuantumRegister(3), ClassicalRegister(2))\n",
        "\n",
        "# Dodanie bramki Hadamarda na kubicie 1, co wprowadza go w superpozycję\n",
        "qc.h(1)\n",
        "\n",
        "# Bramka CNOT - kubit 1 kontroluje kubit 2\n",
        "qc.cx(1, 2)\n",
        "\n",
        "\n",
        "####### POMIAR W BAZIE BELLA ##############\n",
        "# Bramka CNOT - kubit 0 kontroluje kubit 1\n",
        "qc.cx(0, 1)\n",
        "\n",
        "# Kolejna bramka Hadamarda - tym razem na kubicie 0\n",
        "qc.h(0)\n",
        "\n",
        "# Pomiar kubitu 0 i zapis wyniku do klasycznego bitu 0\n",
        "qc.measure(0, 0)\n",
        "\n",
        "# Pomiar kubitu 1 i zapis wyniku do klasycznego bitu 1\n",
        "qc.measure(1, 1)\n",
        "\n",
        "#### KONIEC POMIARU W BAZIE BELLA #######\n",
        "\n",
        "#(Alicja niszczy swój kubit i dzwoni do Bolka)\n",
        "\n",
        "# Kolejna bramka CNOT - kubit 1 kontroluje kubit 2\n",
        "qc.cx(1, 2)\n",
        "\n",
        "# Bramka CZ - operacja kontrolowana Z na kubicie 2, kontrolowana przez kubit 0\n",
        "qc.cz(0, 2)\n",
        "\n",
        "# Wyświetlenie obwodu w formie graficznej\n",
        "qc.draw()"
      ]
    },
    {
      "cell_type": "code",
      "execution_count": 80,
      "metadata": {
        "id": "xRIWFP7Cd6eg"
      },
      "outputs": [],
      "source": [
        "backend = service.least_busy(simulator=False, operational=True)\n",
        "backend.name\n",
        "qc_transpiled = transpile(qc, backend, optimization_level=3, seed_transpiler=0)\n",
        "\n",
        "with Batch(backend=backend):\n",
        "    sampler = SamplerV2()\n",
        "    job = sampler.run(\n",
        "        [qc_transpiled],\n",
        "        shots=100,\n",
        "    )\n",
        "    result_sim = job.result()"
      ]
    },
    {
      "cell_type": "code",
      "execution_count": 81,
      "metadata": {
        "id": "uyBtEvUVd6eg",
        "outputId": "e6025c1b-8636-4388-e91a-b9221a77e97e",
        "colab": {
          "base_uri": "https://localhost:8080/",
          "height": 524
        }
      },
      "outputs": [
        {
          "output_type": "stream",
          "name": "stdout",
          "text": [
            "PrimitiveResult([SamplerPubResult(data=DataBin(c2=BitArray(<shape=(), num_shots=100, num_bits=2>)), metadata={'circuit_metadata': {}})], metadata={'execution': {'execution_spans': ExecutionSpans([DoubleSliceSpan(<start='2025-04-13 14:42:54', stop='2025-04-13 14:42:55', size=100>)])}, 'version': 2})\n"
          ]
        },
        {
          "output_type": "execute_result",
          "data": {
            "text/plain": [
              "<Figure size 640x480 with 1 Axes>"
            ],
            "image/png": "[encoded data removed]"
          },
          "metadata": {},
          "execution_count": 81
        }
      ],
      "source": [
        "# wizualizacja wyników\n",
        "print(result_sim)\n",
        "binary_probs = result_sim[0].data.c2.get_counts()\n",
        "plot_histogram(binary_probs)"
      ]
    },
    {
      "cell_type": "code",
      "execution_count": null,
      "metadata": {
        "id": "F2ajSlTCd6eh"
      },
      "outputs": [],
      "source": []
    }
  ],
  "metadata": {
    "kernelspec": {
      "display_name": "Python 3 (ipykernel)",
      "language": "python",
      "name": "python3"
    },
    "language_info": {
      "codemirror_mode": {
        "name": "ipython",
        "version": 3
      },
      "file_extension": ".py",
      "mimetype": "text/x-python",
      "name": "python",
      "nbconvert_exporter": "python",
      "pygments_lexer": "ipython3",
      "version": "3.9.5"
    },
    "colab": {
      "provenance": []
    }
  },
  "nbformat": 4,
  "nbformat_minor": 0
}